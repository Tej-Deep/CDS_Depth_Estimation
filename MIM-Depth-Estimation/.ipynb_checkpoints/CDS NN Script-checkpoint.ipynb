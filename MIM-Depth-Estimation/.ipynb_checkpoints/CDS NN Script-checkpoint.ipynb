{
 "cells": [
  {
   "cell_type": "markdown",
   "id": "1e90801e",
   "metadata": {},
   "source": [
    "CDS Depth Estimation"
   ]
  },
  {
   "cell_type": "code",
   "execution_count": 1,
   "id": "d4a74096",
   "metadata": {},
   "outputs": [],
   "source": [
    "import glob"
   ]
  },
  {
   "cell_type": "code",
   "execution_count": 7,
   "id": "96862e1d",
   "metadata": {},
   "outputs": [
    {
     "name": "stdout",
     "output_type": "stream",
     "text": [
      "['data/nyu_depth_v2/official_splits/train\\\\basement', 'data/nyu_depth_v2/official_splits/train\\\\bathroom', 'data/nyu_depth_v2/official_splits/train\\\\bedroom', 'data/nyu_depth_v2/official_splits/train\\\\bookstore', 'data/nyu_depth_v2/official_splits/train\\\\cafe', 'data/nyu_depth_v2/official_splits/train\\\\classroom', 'data/nyu_depth_v2/official_splits/train\\\\computer_lab', 'data/nyu_depth_v2/official_splits/train\\\\conference_room', 'data/nyu_depth_v2/official_splits/train\\\\dinette', 'data/nyu_depth_v2/official_splits/train\\\\dining_room', 'data/nyu_depth_v2/official_splits/train\\\\excercise_room', 'data/nyu_depth_v2/official_splits/train\\\\foyer', 'data/nyu_depth_v2/official_splits/train\\\\furniture_store', 'data/nyu_depth_v2/official_splits/train\\\\home_office', 'data/nyu_depth_v2/official_splits/train\\\\home_storage', 'data/nyu_depth_v2/official_splits/train\\\\indoor_balcony', 'data/nyu_depth_v2/official_splits/train\\\\kitchen', 'data/nyu_depth_v2/official_splits/train\\\\laundry_room', 'data/nyu_depth_v2/official_splits/train\\\\living_room', 'data/nyu_depth_v2/official_splits/train\\\\office', 'data/nyu_depth_v2/official_splits/train\\\\office_kitchen', 'data/nyu_depth_v2/official_splits/train\\\\playroom', 'data/nyu_depth_v2/official_splits/train\\\\printer_room', 'data/nyu_depth_v2/official_splits/train\\\\reception_room', 'data/nyu_depth_v2/official_splits/train\\\\student_lounge', 'data/nyu_depth_v2/official_splits/train\\\\study', 'data/nyu_depth_v2/official_splits/train\\\\study_room']\n"
     ]
    }
   ],
   "source": [
    "ls = glob.glob('data/nyu_depth_v2/official_splits/train/*')\n",
    "print(ls)"
   ]
  },
  {
   "cell_type": "code",
   "execution_count": 8,
   "id": "2b57a65d",
   "metadata": {},
   "outputs": [],
   "source": [
    "## Loading and processing the dataset"
   ]
  },
  {
   "cell_type": "code",
   "execution_count": null,
   "id": "7c93cab3",
   "metadata": {},
   "outputs": [],
   "source": []
  }
 ],
 "metadata": {
  "kernelspec": {
   "display_name": "Python 3 (ipykernel)",
   "language": "python",
   "name": "python3"
  },
  "language_info": {
   "codemirror_mode": {
    "name": "ipython",
    "version": 3
   },
   "file_extension": ".py",
   "mimetype": "text/x-python",
   "name": "python",
   "nbconvert_exporter": "python",
   "pygments_lexer": "ipython3",
   "version": "3.9.16"
  },
  "toc": {
   "base_numbering": 1,
   "nav_menu": {},
   "number_sections": false,
   "sideBar": false,
   "skip_h1_title": false,
   "title_cell": "Table of Contents",
   "title_sidebar": "Contents",
   "toc_cell": false,
   "toc_position": {},
   "toc_section_display": false,
   "toc_window_display": false
  }
 },
 "nbformat": 4,
 "nbformat_minor": 5
}
